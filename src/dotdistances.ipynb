{
 "cells": [
  {
   "cell_type": "code",
   "execution_count": 1,
   "metadata": {},
   "outputs": [],
   "source": [
    "import numpy\n",
    "import math\n"
   ]
  },
  {
   "cell_type": "code",
   "execution_count": 36,
   "metadata": {},
   "outputs": [],
   "source": [
    "x=[86, 52, 52, 19]\n",
    "y=[54, 54, 21, 54]\n",
    "\n",
    "peaks= [ [86, 54], [52, 54],[52, 21], [19,54]]"
   ]
  },
  {
   "cell_type": "code",
   "execution_count": 17,
   "metadata": {},
   "outputs": [
    {
     "data": {
      "text/plain": [
       "52"
      ]
     },
     "execution_count": 17,
     "metadata": {},
     "output_type": "execute_result"
    }
   ],
   "source": [
    "loc[1][0]  [row][x or y]\n",
    "#len(loc)"
   ]
  },
  {
   "cell_type": "code",
   "execution_count": 49,
   "metadata": {},
   "outputs": [],
   "source": [
    "dist = math.hypot(loc[1][0]-loc[0][0], loc[1][1]-loc[0][1])\n",
    "dist\n",
    "dx=[]\n",
    "dy=[]"
   ]
  },
  {
   "cell_type": "code",
   "execution_count": 50,
   "metadata": {},
   "outputs": [
    {
     "name": "stdout",
     "output_type": "stream",
     "text": [
      "1 2 52 52 33.0 [33.0]\n",
      "2 1 52 52 33.0 [33.0, 33.0]\n"
     ]
    }
   ],
   "source": [
    "for j in range(len(peaks)-1):\n",
    "    for i in range(len(peaks)): #loop over all points\n",
    "       # print(j, i, peaks[j][0], peaks[i][0])\n",
    "        if ((peaks[j][0]==peaks[i][0])& (j!=i)):\n",
    "\n",
    "            dist = math.hypot(peaks[j][0]-peaks[i][0], peaks[j][1]-peaks[i][1])\n",
    "            dx.append(dist)\n",
    "            print(j, i, peaks[j][0], peaks[i][0], dist, dx)\n",
    "    #print(i, dist)"
   ]
  },
  {
   "cell_type": "code",
   "execution_count": 52,
   "metadata": {},
   "outputs": [
    {
     "name": "stdout",
     "output_type": "stream",
     "text": [
      "0 1 54 54 34.0 [34.0]\n",
      "0 3 54 54 67.0 [34.0, 67.0]\n",
      "1 0 54 54 34.0 [34.0, 67.0, 34.0]\n",
      "1 3 54 54 33.0 [34.0, 67.0, 34.0, 33.0]\n"
     ]
    }
   ],
   "source": [
    "for j in range(len(peaks)-1):\n",
    "    for i in range(len(peaks)): #loop over all points\n",
    "       # print(j, i, peaks[j][0], peaks[i][0])\n",
    "        if ((peaks[j][1]==peaks[i][1])& (j!=i)):\n",
    "\n",
    "            dist = math.hypot(peaks[j][0]-peaks[i][0], peaks[j][1]-peaks[i][1])\n",
    "            dy.append(dist)\n",
    "            print(j, i, peaks[j][1], peaks[i][1], dist, dy )"
   ]
  },
  {
   "cell_type": "code",
   "execution_count": 61,
   "metadata": {},
   "outputs": [
    {
     "data": {
      "text/plain": [
       "{33.0, 34.0, 67.0}"
      ]
     },
     "execution_count": 61,
     "metadata": {},
     "output_type": "execute_result"
    }
   ],
   "source": [
    "#sety=set(dy) #but what if it gives one number?\n",
    "#sety"
   ]
  },
  {
   "cell_type": "code",
   "execution_count": 81,
   "metadata": {},
   "outputs": [
    {
     "name": "stdout",
     "output_type": "stream",
     "text": [
      "5 mm (x-dir) correspond to  33.0  pixels.\n",
      "5 mm (y-dir) correspond to  33.0  pixels.\n",
      "Adopted scale is  33.0  pixels for 5 mm.\n"
     ]
    }
   ],
   "source": [
    "try:\n",
    "    scale_x=min(dx)\n",
    "    print(\"5 mm (x-dir) correspond to \", scale_x, \" pixels.\")\n",
    "except ValueError:\n",
    "    print(\"Could not find dots on same x-axis\")\n",
    "try:\n",
    "    scale_y=min(dy)\n",
    "    print(\"5 mm (y-dir) correspond to \", scale_y, \" pixels.\")\n",
    "except ValueError:\n",
    "    print(\"Could not find dots on same y-axis\")\n",
    "\n",
    "if ((len(dy)!=0 and len(dx)!=0) and (scale_y -1 <=scale_x and scale_x<= scale_y + 1)):\n",
    "    scale= scale_x\n",
    "    print(\"Adopted scale is \",scale,\" pixels for 5 mm.\")\n",
    "elif (len(dy)!=0 and len(dx)==0):\n",
    "    scale= scale_y\n",
    "elif (len(dx)!=0 and len(dy)==0):\n",
    "    scale= scale_x\n",
    "else:\n",
    "    print(\"No scale was found.\")\n",
    "    "
   ]
  },
  {
   "cell_type": "code",
   "execution_count": null,
   "metadata": {},
   "outputs": [],
   "source": []
  }
 ],
 "metadata": {
  "kernelspec": {
   "display_name": "Python 3",
   "language": "python",
   "name": "python3"
  },
  "language_info": {
   "codemirror_mode": {
    "name": "ipython",
    "version": 3
   },
   "file_extension": ".py",
   "mimetype": "text/x-python",
   "name": "python",
   "nbconvert_exporter": "python",
   "pygments_lexer": "ipython3",
   "version": "3.7.2"
  }
 },
 "nbformat": 4,
 "nbformat_minor": 2
}
